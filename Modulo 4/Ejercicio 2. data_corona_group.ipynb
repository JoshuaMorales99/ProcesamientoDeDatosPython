{
 "cells": [
  {
   "cell_type": "code",
   "execution_count": 1,
   "id": "74de7d37",
   "metadata": {},
   "outputs": [],
   "source": [
    "# Importacion de archivo.\n",
    "import pandas as pd\n",
    "\n",
    "df = pd.read_csv('C:/Users/Joshua/Desktop/Archivos y Anotaciones/Mis Documentos/Educacion/Argentina Programa/Procesamiento de Datos con Python/Teoria y ejercicios/Modulo 4/data_corona_group.csv', sep = \";\")"
   ]
  },
  {
   "cell_type": "markdown",
   "id": "c27178b3",
   "metadata": {},
   "source": [
    "### Consultas sobre el DataFrame."
   ]
  },
  {
   "cell_type": "code",
   "execution_count": 2,
   "id": "36140a3e",
   "metadata": {},
   "outputs": [
    {
     "data": {
      "text/html": [
       "<div>\n",
       "<style scoped>\n",
       "    .dataframe tbody tr th:only-of-type {\n",
       "        vertical-align: middle;\n",
       "    }\n",
       "\n",
       "    .dataframe tbody tr th {\n",
       "        vertical-align: top;\n",
       "    }\n",
       "\n",
       "    .dataframe thead th {\n",
       "        text-align: right;\n",
       "    }\n",
       "</style>\n",
       "<table border=\"1\" class=\"dataframe\">\n",
       "  <thead>\n",
       "    <tr style=\"text-align: right;\">\n",
       "      <th></th>\n",
       "      <th>Sno</th>\n",
       "      <th>Date</th>\n",
       "      <th>Province/State</th>\n",
       "      <th>Country</th>\n",
       "      <th>Last Update</th>\n",
       "      <th>Confirmed</th>\n",
       "      <th>Deaths</th>\n",
       "      <th>Recovered</th>\n",
       "    </tr>\n",
       "  </thead>\n",
       "  <tbody>\n",
       "    <tr>\n",
       "      <th>0</th>\n",
       "      <td>1</td>\n",
       "      <td>01/22/2020 12:00:00</td>\n",
       "      <td>Anhui</td>\n",
       "      <td>China</td>\n",
       "      <td>01/22/2020 12:00:00</td>\n",
       "      <td>1</td>\n",
       "      <td>0</td>\n",
       "      <td>0</td>\n",
       "    </tr>\n",
       "    <tr>\n",
       "      <th>1</th>\n",
       "      <td>2</td>\n",
       "      <td>01/22/2020 12:00:00</td>\n",
       "      <td>Beijing</td>\n",
       "      <td>China</td>\n",
       "      <td>01/22/2020 12:00:00</td>\n",
       "      <td>14</td>\n",
       "      <td>0</td>\n",
       "      <td>0</td>\n",
       "    </tr>\n",
       "    <tr>\n",
       "      <th>2</th>\n",
       "      <td>3</td>\n",
       "      <td>01/22/2020 12:00:00</td>\n",
       "      <td>Chongqing</td>\n",
       "      <td>China</td>\n",
       "      <td>01/22/2020 12:00:00</td>\n",
       "      <td>6</td>\n",
       "      <td>0</td>\n",
       "      <td>0</td>\n",
       "    </tr>\n",
       "    <tr>\n",
       "      <th>3</th>\n",
       "      <td>4</td>\n",
       "      <td>01/22/2020 12:00:00</td>\n",
       "      <td>Fujian</td>\n",
       "      <td>China</td>\n",
       "      <td>01/22/2020 12:00:00</td>\n",
       "      <td>1</td>\n",
       "      <td>0</td>\n",
       "      <td>0</td>\n",
       "    </tr>\n",
       "    <tr>\n",
       "      <th>4</th>\n",
       "      <td>5</td>\n",
       "      <td>01/22/2020 12:00:00</td>\n",
       "      <td>Gansu</td>\n",
       "      <td>China</td>\n",
       "      <td>01/22/2020 12:00:00</td>\n",
       "      <td>0</td>\n",
       "      <td>0</td>\n",
       "      <td>0</td>\n",
       "    </tr>\n",
       "  </tbody>\n",
       "</table>\n",
       "</div>"
      ],
      "text/plain": [
       "   Sno                 Date Province/State Country          Last Update  \\\n",
       "0    1  01/22/2020 12:00:00          Anhui   China  01/22/2020 12:00:00   \n",
       "1    2  01/22/2020 12:00:00        Beijing   China  01/22/2020 12:00:00   \n",
       "2    3  01/22/2020 12:00:00      Chongqing   China  01/22/2020 12:00:00   \n",
       "3    4  01/22/2020 12:00:00         Fujian   China  01/22/2020 12:00:00   \n",
       "4    5  01/22/2020 12:00:00          Gansu   China  01/22/2020 12:00:00   \n",
       "\n",
       "   Confirmed  Deaths  Recovered  \n",
       "0          1       0          0  \n",
       "1         14       0          0  \n",
       "2          6       0          0  \n",
       "3          1       0          0  \n",
       "4          0       0          0  "
      ]
     },
     "execution_count": 2,
     "metadata": {},
     "output_type": "execute_result"
    }
   ],
   "source": [
    "# Imprimir las primeras filas del DataFrame.\n",
    "df.head()"
   ]
  },
  {
   "cell_type": "code",
   "execution_count": 3,
   "id": "a3cc154d",
   "metadata": {},
   "outputs": [
    {
     "data": {
      "text/html": [
       "<div>\n",
       "<style scoped>\n",
       "    .dataframe tbody tr th:only-of-type {\n",
       "        vertical-align: middle;\n",
       "    }\n",
       "\n",
       "    .dataframe tbody tr th {\n",
       "        vertical-align: top;\n",
       "    }\n",
       "\n",
       "    .dataframe thead th {\n",
       "        text-align: right;\n",
       "    }\n",
       "</style>\n",
       "<table border=\"1\" class=\"dataframe\">\n",
       "  <thead>\n",
       "    <tr style=\"text-align: right;\">\n",
       "      <th></th>\n",
       "      <th>Sno</th>\n",
       "      <th>Date</th>\n",
       "      <th>Province/State</th>\n",
       "      <th>Country</th>\n",
       "      <th>Last Update</th>\n",
       "      <th>Confirmed</th>\n",
       "      <th>Deaths</th>\n",
       "      <th>Recovered</th>\n",
       "    </tr>\n",
       "  </thead>\n",
       "  <tbody>\n",
       "    <tr>\n",
       "      <th>116</th>\n",
       "      <td>1715</td>\n",
       "      <td>02/17/2020 22:00:00</td>\n",
       "      <td>MadisonWI</td>\n",
       "      <td>US</td>\n",
       "      <td>2020-02-05T21:53:02</td>\n",
       "      <td>1</td>\n",
       "      <td>0</td>\n",
       "      <td>0</td>\n",
       "    </tr>\n",
       "    <tr>\n",
       "      <th>117</th>\n",
       "      <td>1716</td>\n",
       "      <td>02/17/2020 22:00:00</td>\n",
       "      <td>OrangeCA</td>\n",
       "      <td>US</td>\n",
       "      <td>2020-02-01T19:53:03</td>\n",
       "      <td>1</td>\n",
       "      <td>0</td>\n",
       "      <td>0</td>\n",
       "    </tr>\n",
       "    <tr>\n",
       "      <th>118</th>\n",
       "      <td>1717</td>\n",
       "      <td>02/17/2020 22:00:00</td>\n",
       "      <td>San AntonioTX</td>\n",
       "      <td>US</td>\n",
       "      <td>2020-02-13T18:53:02</td>\n",
       "      <td>1</td>\n",
       "      <td>0</td>\n",
       "      <td>0</td>\n",
       "    </tr>\n",
       "    <tr>\n",
       "      <th>119</th>\n",
       "      <td>1718</td>\n",
       "      <td>02/17/2020 22:00:00</td>\n",
       "      <td>SeattleWA</td>\n",
       "      <td>US</td>\n",
       "      <td>2020-02-09T07:03:04</td>\n",
       "      <td>1</td>\n",
       "      <td>0</td>\n",
       "      <td>1</td>\n",
       "    </tr>\n",
       "    <tr>\n",
       "      <th>120</th>\n",
       "      <td>1719</td>\n",
       "      <td>02/17/2020 22:00:00</td>\n",
       "      <td>TempeAZ</td>\n",
       "      <td>US</td>\n",
       "      <td>2020-02-01T19:43:03</td>\n",
       "      <td>1</td>\n",
       "      <td>0</td>\n",
       "      <td>0</td>\n",
       "    </tr>\n",
       "  </tbody>\n",
       "</table>\n",
       "</div>"
      ],
      "text/plain": [
       "      Sno                 Date Province/State Country          Last Update  \\\n",
       "116  1715  02/17/2020 22:00:00      MadisonWI      US  2020-02-05T21:53:02   \n",
       "117  1716  02/17/2020 22:00:00       OrangeCA      US  2020-02-01T19:53:03   \n",
       "118  1717  02/17/2020 22:00:00  San AntonioTX      US  2020-02-13T18:53:02   \n",
       "119  1718  02/17/2020 22:00:00      SeattleWA      US  2020-02-09T07:03:04   \n",
       "120  1719  02/17/2020 22:00:00        TempeAZ      US  2020-02-01T19:43:03   \n",
       "\n",
       "     Confirmed  Deaths  Recovered  \n",
       "116          1       0          0  \n",
       "117          1       0          0  \n",
       "118          1       0          0  \n",
       "119          1       0          1  \n",
       "120          1       0          0  "
      ]
     },
     "execution_count": 3,
     "metadata": {},
     "output_type": "execute_result"
    }
   ],
   "source": [
    "# Imprimir las ultimas filas del DataFrame.\n",
    "df.tail()"
   ]
  },
  {
   "cell_type": "code",
   "execution_count": 4,
   "id": "1e3b0782",
   "metadata": {},
   "outputs": [
    {
     "name": "stdout",
     "output_type": "stream",
     "text": [
      "(121, 8)\n"
     ]
    }
   ],
   "source": [
    "# Imprimir las dimensiones del DataFrame.\n",
    "print(df.shape)"
   ]
  },
  {
   "cell_type": "code",
   "execution_count": 5,
   "id": "763ce5eb",
   "metadata": {},
   "outputs": [
    {
     "data": {
      "text/plain": [
       "Sno               121\n",
       "Date              121\n",
       "Province/State     95\n",
       "Country           121\n",
       "Last Update       121\n",
       "Confirmed         121\n",
       "Deaths            121\n",
       "Recovered         121\n",
       "dtype: int64"
      ]
     },
     "execution_count": 5,
     "metadata": {},
     "output_type": "execute_result"
    }
   ],
   "source": [
    "# Obtener la totalidad de registros por columnas.\n",
    "df.count()"
   ]
  },
  {
   "cell_type": "code",
   "execution_count": 6,
   "id": "e09813c2",
   "metadata": {},
   "outputs": [
    {
     "data": {
      "text/plain": [
       "Sno                int64\n",
       "Date              object\n",
       "Province/State    object\n",
       "Country           object\n",
       "Last Update       object\n",
       "Confirmed          int64\n",
       "Deaths             int64\n",
       "Recovered          int64\n",
       "dtype: object"
      ]
     },
     "execution_count": 6,
     "metadata": {},
     "output_type": "execute_result"
    }
   ],
   "source": [
    "# Obtener los tipos de dato de cada columna.\n",
    "df.dtypes"
   ]
  },
  {
   "cell_type": "code",
   "execution_count": 7,
   "id": "867d7a9b",
   "metadata": {},
   "outputs": [
    {
     "data": {
      "text/plain": [
       "pandas.core.frame.DataFrame"
      ]
     },
     "execution_count": 7,
     "metadata": {},
     "output_type": "execute_result"
    }
   ],
   "source": [
    "# Verificamos la estructura del DataSet.\n",
    "type(df)"
   ]
  },
  {
   "cell_type": "code",
   "execution_count": 8,
   "id": "2dba4e4e",
   "metadata": {},
   "outputs": [
    {
     "name": "stdout",
     "output_type": "stream",
     "text": [
      "Index(['Sno', 'Date', 'Province/State', 'Country', 'Last Update', 'Confirmed',\n",
      "       'Deaths', 'Recovered'],\n",
      "      dtype='object')\n"
     ]
    }
   ],
   "source": [
    "# Lista de las columnas.\n",
    "print(df.columns)"
   ]
  },
  {
   "cell_type": "code",
   "execution_count": 9,
   "id": "275611cc",
   "metadata": {},
   "outputs": [
    {
     "name": "stdout",
     "output_type": "stream",
     "text": [
      "<class 'pandas.core.frame.DataFrame'>\n",
      "RangeIndex: 121 entries, 0 to 120\n",
      "Data columns (total 8 columns):\n",
      " #   Column          Non-Null Count  Dtype \n",
      "---  ------          --------------  ----- \n",
      " 0   Sno             121 non-null    int64 \n",
      " 1   Date            121 non-null    object\n",
      " 2   Province/State  95 non-null     object\n",
      " 3   Country         121 non-null    object\n",
      " 4   Last Update     121 non-null    object\n",
      " 5   Confirmed       121 non-null    int64 \n",
      " 6   Deaths          121 non-null    int64 \n",
      " 7   Recovered       121 non-null    int64 \n",
      "dtypes: int64(4), object(4)\n",
      "memory usage: 7.7+ KB\n"
     ]
    }
   ],
   "source": [
    "# Obtener la informacion general del DataFrame.\n",
    "df.info()"
   ]
  },
  {
   "cell_type": "markdown",
   "id": "2e2cedeb",
   "metadata": {},
   "source": [
    "### Transformaciones en el DataFrame."
   ]
  },
  {
   "cell_type": "code",
   "execution_count": 10,
   "id": "21e12a45",
   "metadata": {},
   "outputs": [],
   "source": [
    "# Eliminar columnas del DataFrame.\n",
    "df.drop(columns = ['Date', 'Last Update'], inplace = True)"
   ]
  },
  {
   "cell_type": "code",
   "execution_count": 11,
   "id": "a84d9191",
   "metadata": {},
   "outputs": [
    {
     "name": "stdout",
     "output_type": "stream",
     "text": [
      "(121, 6)\n"
     ]
    }
   ],
   "source": [
    "# Verificamos. Antes habian 8, ahora hay 6.\n",
    "print(df.shape)"
   ]
  },
  {
   "cell_type": "code",
   "execution_count": 12,
   "id": "1908097d",
   "metadata": {},
   "outputs": [
    {
     "name": "stdout",
     "output_type": "stream",
     "text": [
      "Sno                0\n",
      "Province/State    26\n",
      "Country            0\n",
      "Confirmed          0\n",
      "Deaths             0\n",
      "Recovered          0\n",
      "dtype: int64\n"
     ]
    }
   ],
   "source": [
    "# Determinar cuantos valores faltantes tenemos por cada columna.\n",
    "# isna: Funcion booleana que sirve para detectar valores missing. \n",
    "print(df.isna().sum())"
   ]
  },
  {
   "cell_type": "code",
   "execution_count": 13,
   "id": "6b0cb6ec",
   "metadata": {},
   "outputs": [
    {
     "name": "stdout",
     "output_type": "stream",
     "text": [
      "<class 'pandas.core.frame.DataFrame'>\n",
      "RangeIndex: 121 entries, 0 to 120\n",
      "Data columns (total 6 columns):\n",
      " #   Column          Non-Null Count  Dtype \n",
      "---  ------          --------------  ----- \n",
      " 0   Sno             121 non-null    int64 \n",
      " 1   Province/State  95 non-null     object\n",
      " 2   Country         121 non-null    object\n",
      " 3   Confirmed       121 non-null    int64 \n",
      " 4   Deaths          121 non-null    int64 \n",
      " 5   Recovered       121 non-null    int64 \n",
      "dtypes: int64(4), object(2)\n",
      "memory usage: 5.8+ KB\n"
     ]
    }
   ],
   "source": [
    "# Obtener la informacion general del DataFrame.\n",
    "df.info()"
   ]
  },
  {
   "cell_type": "code",
   "execution_count": 14,
   "id": "20206c49",
   "metadata": {},
   "outputs": [
    {
     "data": {
      "text/html": [
       "<div>\n",
       "<style scoped>\n",
       "    .dataframe tbody tr th:only-of-type {\n",
       "        vertical-align: middle;\n",
       "    }\n",
       "\n",
       "    .dataframe tbody tr th {\n",
       "        vertical-align: top;\n",
       "    }\n",
       "\n",
       "    .dataframe thead th {\n",
       "        text-align: right;\n",
       "    }\n",
       "</style>\n",
       "<table border=\"1\" class=\"dataframe\">\n",
       "  <thead>\n",
       "    <tr style=\"text-align: right;\">\n",
       "      <th></th>\n",
       "      <th>Sno</th>\n",
       "      <th>Confirmed</th>\n",
       "      <th>Deaths</th>\n",
       "      <th>Recovered</th>\n",
       "    </tr>\n",
       "  </thead>\n",
       "  <tbody>\n",
       "    <tr>\n",
       "      <th>count</th>\n",
       "      <td>121.000000</td>\n",
       "      <td>121.000000</td>\n",
       "      <td>121.000000</td>\n",
       "      <td>121.000000</td>\n",
       "    </tr>\n",
       "    <tr>\n",
       "      <th>mean</th>\n",
       "      <td>1086.743802</td>\n",
       "      <td>610.677686</td>\n",
       "      <td>15.438017</td>\n",
       "      <td>103.991736</td>\n",
       "    </tr>\n",
       "    <tr>\n",
       "      <th>std</th>\n",
       "      <td>774.530293</td>\n",
       "      <td>5449.482485</td>\n",
       "      <td>162.589150</td>\n",
       "      <td>718.648077</td>\n",
       "    </tr>\n",
       "    <tr>\n",
       "      <th>min</th>\n",
       "      <td>1.000000</td>\n",
       "      <td>0.000000</td>\n",
       "      <td>0.000000</td>\n",
       "      <td>0.000000</td>\n",
       "    </tr>\n",
       "    <tr>\n",
       "      <th>25%</th>\n",
       "      <td>31.000000</td>\n",
       "      <td>1.000000</td>\n",
       "      <td>0.000000</td>\n",
       "      <td>0.000000</td>\n",
       "    </tr>\n",
       "    <tr>\n",
       "      <th>50%</th>\n",
       "      <td>1659.000000</td>\n",
       "      <td>4.000000</td>\n",
       "      <td>0.000000</td>\n",
       "      <td>0.000000</td>\n",
       "    </tr>\n",
       "    <tr>\n",
       "      <th>75%</th>\n",
       "      <td>1689.000000</td>\n",
       "      <td>72.000000</td>\n",
       "      <td>0.000000</td>\n",
       "      <td>12.000000</td>\n",
       "    </tr>\n",
       "    <tr>\n",
       "      <th>max</th>\n",
       "      <td>1719.000000</td>\n",
       "      <td>59989.000000</td>\n",
       "      <td>1789.000000</td>\n",
       "      <td>7862.000000</td>\n",
       "    </tr>\n",
       "  </tbody>\n",
       "</table>\n",
       "</div>"
      ],
      "text/plain": [
       "               Sno     Confirmed       Deaths    Recovered\n",
       "count   121.000000    121.000000   121.000000   121.000000\n",
       "mean   1086.743802    610.677686    15.438017   103.991736\n",
       "std     774.530293   5449.482485   162.589150   718.648077\n",
       "min       1.000000      0.000000     0.000000     0.000000\n",
       "25%      31.000000      1.000000     0.000000     0.000000\n",
       "50%    1659.000000      4.000000     0.000000     0.000000\n",
       "75%    1689.000000     72.000000     0.000000    12.000000\n",
       "max    1719.000000  59989.000000  1789.000000  7862.000000"
      ]
     },
     "execution_count": 14,
     "metadata": {},
     "output_type": "execute_result"
    }
   ],
   "source": [
    "# Obtener las estadisticas basicas del DataSet.\n",
    "# count: Conteos.\n",
    "# mean: Promedios.\n",
    "# std: Desvios estandares.\n",
    "# min: Valores minimos.\n",
    "# max: Valores maximos.\n",
    "df.describe()"
   ]
  },
  {
   "cell_type": "markdown",
   "id": "0e953ace",
   "metadata": {},
   "source": [
    "Esto se utiliza para realizar, de forma rapida, un Analisis exploratorio de datos (EDA)"
   ]
  },
  {
   "cell_type": "code",
   "execution_count": 16,
   "id": "dfd4a02b",
   "metadata": {},
   "outputs": [
    {
     "data": {
      "text/html": [
       "<div>\n",
       "<style scoped>\n",
       "    .dataframe tbody tr th:only-of-type {\n",
       "        vertical-align: middle;\n",
       "    }\n",
       "\n",
       "    .dataframe tbody tr th {\n",
       "        vertical-align: top;\n",
       "    }\n",
       "\n",
       "    .dataframe thead th {\n",
       "        text-align: right;\n",
       "    }\n",
       "</style>\n",
       "<table border=\"1\" class=\"dataframe\">\n",
       "  <thead>\n",
       "    <tr style=\"text-align: right;\">\n",
       "      <th></th>\n",
       "      <th>count</th>\n",
       "      <th>mean</th>\n",
       "      <th>std</th>\n",
       "      <th>min</th>\n",
       "      <th>25%</th>\n",
       "      <th>50%</th>\n",
       "      <th>75%</th>\n",
       "      <th>max</th>\n",
       "    </tr>\n",
       "  </thead>\n",
       "  <tbody>\n",
       "    <tr>\n",
       "      <th>Sno</th>\n",
       "      <td>121.0</td>\n",
       "      <td>1086.743802</td>\n",
       "      <td>774.530293</td>\n",
       "      <td>1.0</td>\n",
       "      <td>31.0</td>\n",
       "      <td>1659.0</td>\n",
       "      <td>1689.0</td>\n",
       "      <td>1719.0</td>\n",
       "    </tr>\n",
       "    <tr>\n",
       "      <th>Confirmed</th>\n",
       "      <td>121.0</td>\n",
       "      <td>610.677686</td>\n",
       "      <td>5449.482485</td>\n",
       "      <td>0.0</td>\n",
       "      <td>1.0</td>\n",
       "      <td>4.0</td>\n",
       "      <td>72.0</td>\n",
       "      <td>59989.0</td>\n",
       "    </tr>\n",
       "    <tr>\n",
       "      <th>Deaths</th>\n",
       "      <td>121.0</td>\n",
       "      <td>15.438017</td>\n",
       "      <td>162.589150</td>\n",
       "      <td>0.0</td>\n",
       "      <td>0.0</td>\n",
       "      <td>0.0</td>\n",
       "      <td>0.0</td>\n",
       "      <td>1789.0</td>\n",
       "    </tr>\n",
       "    <tr>\n",
       "      <th>Recovered</th>\n",
       "      <td>121.0</td>\n",
       "      <td>103.991736</td>\n",
       "      <td>718.648077</td>\n",
       "      <td>0.0</td>\n",
       "      <td>0.0</td>\n",
       "      <td>0.0</td>\n",
       "      <td>12.0</td>\n",
       "      <td>7862.0</td>\n",
       "    </tr>\n",
       "  </tbody>\n",
       "</table>\n",
       "</div>"
      ],
      "text/plain": [
       "           count         mean          std  min   25%     50%     75%      max\n",
       "Sno        121.0  1086.743802   774.530293  1.0  31.0  1659.0  1689.0   1719.0\n",
       "Confirmed  121.0   610.677686  5449.482485  0.0   1.0     4.0    72.0  59989.0\n",
       "Deaths     121.0    15.438017   162.589150  0.0   0.0     0.0     0.0   1789.0\n",
       "Recovered  121.0   103.991736   718.648077  0.0   0.0     0.0    12.0   7862.0"
      ]
     },
     "execution_count": 16,
     "metadata": {},
     "output_type": "execute_result"
    }
   ],
   "source": [
    "# Transponer la matriz anterior.\n",
    "df.describe().T"
   ]
  },
  {
   "cell_type": "markdown",
   "id": "7fd56bea",
   "metadata": {},
   "source": [
    "Para mas, ver: w3schools -> python -> pandas."
   ]
  }
 ],
 "metadata": {
  "kernelspec": {
   "display_name": "Python 3 (ipykernel)",
   "language": "python",
   "name": "python3"
  },
  "language_info": {
   "codemirror_mode": {
    "name": "ipython",
    "version": 3
   },
   "file_extension": ".py",
   "mimetype": "text/x-python",
   "name": "python",
   "nbconvert_exporter": "python",
   "pygments_lexer": "ipython3",
   "version": "3.11.3"
  }
 },
 "nbformat": 4,
 "nbformat_minor": 5
}
