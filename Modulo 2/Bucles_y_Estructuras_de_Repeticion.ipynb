{
  "nbformat": 4,
  "nbformat_minor": 0,
  "metadata": {
    "colab": {
      "provenance": []
    },
    "kernelspec": {
      "name": "python3",
      "display_name": "Python 3"
    },
    "language_info": {
      "name": "python"
    }
  },
  "cells": [
    {
      "cell_type": "markdown",
      "source": [
        "# **Bucles y estructuras de repetición**\n"
      ],
      "metadata": {
        "id": "qo7IlOM5QcpH"
      }
    },
    {
      "cell_type": "markdown",
      "source": [
        "## *Bucle condicional (\"while\")*"
      ],
      "metadata": {
        "id": "l-bnOX9MSGN3"
      }
    },
    {
      "cell_type": "markdown",
      "source": [
        "Esta estructura repite su bloque de código mientras la condición sea verdadera. Veamos la estructura de repetición `while`.\n",
        "\n",
        "```\n",
        "# Estructura while\n",
        "while condicion\n",
        "  bloque de codigo a repetir\n",
        "```\n",
        "\\\n",
        "\n",
        "Ejemplo: Mostrar por pantalla los primeros 10 números enteros."
      ],
      "metadata": {
        "id": "AncCVp_8SUnE"
      }
    },
    {
      "cell_type": "code",
      "source": [
        "Numeros = 0\n",
        "# Mientras que Numeros sea menor a 10.\n",
        "while Numeros < 10 :\n",
        "  # Ir mostrando por pantalla los numeros.\n",
        "  print(Numeros)\n",
        "  # Contador, es decir, incrementar el valor de la variable Numero en 1.\n",
        "  Numeros = Numeros + 1"
      ],
      "metadata": {
        "colab": {
          "base_uri": "https://localhost:8080/"
        },
        "id": "SFZf8CmHT8v_",
        "outputId": "582a35b3-9435-467b-c100-fb335e2dbf84"
      },
      "execution_count": 19,
      "outputs": [
        {
          "output_type": "stream",
          "name": "stdout",
          "text": [
            "0\n",
            "1\n",
            "2\n",
            "3\n",
            "4\n",
            "5\n",
            "6\n",
            "7\n",
            "8\n",
            "9\n"
          ]
        }
      ]
    },
    {
      "cell_type": "markdown",
      "source": [
        "Veamos el valor final de la variable Numeros al final del bucle:"
      ],
      "metadata": {
        "id": "XrY9DDBpUt7G"
      }
    },
    {
      "cell_type": "code",
      "source": [
        "Numeros"
      ],
      "metadata": {
        "colab": {
          "base_uri": "https://localhost:8080/"
        },
        "id": "f0ubY4ROUfrZ",
        "outputId": "678d6975-0a7f-4a89-8217-9885ad52c42a"
      },
      "execution_count": 18,
      "outputs": [
        {
          "output_type": "execute_result",
          "data": {
            "text/plain": [
              "10"
            ]
          },
          "metadata": {},
          "execution_count": 18
        }
      ]
    },
    {
      "cell_type": "markdown",
      "source": [
        "## Bucles infinitos"
      ],
      "metadata": {
        "id": "i9rMxzfrSbo3"
      }
    },
    {
      "cell_type": "markdown",
      "source": [
        "En el siguiente ejemplo se va a estar mostrando, de forma INFINITA, el valor 1 por pantalla. Esto se debe a que la variable Numeros NUNCA va a ser mayor a 10.\n",
        "\n",
        "```\n",
        "Numeros = 1\n",
        "# Mintras que Numeros sea menor a 10.\n",
        "while Numeros < 10 :\n",
        "  # Ir mostrando por pantalla los Numeros.\n",
        "  print(Numeros)\n",
        "```\n",
        "\n"
      ],
      "metadata": {
        "id": "3md6ly-rVH5p"
      }
    },
    {
      "cell_type": "markdown",
      "source": [
        "Obligatoriamente, en la sentencia `while`, debemos establecer algun método de corte o iteración."
      ],
      "metadata": {
        "id": "pqJZMlZMjWTD"
      }
    },
    {
      "cell_type": "markdown",
      "source": [
        "## Flags de salida"
      ],
      "metadata": {
        "id": "VNFbQ6RHVk7z"
      }
    },
    {
      "cell_type": "markdown",
      "source": [
        "Una bandera o interruptor (flag) es una variable lógica que se utiliza para conservar el estado (Verdadero o Falso) de una condición.\n",
        "\\\n",
        "\\\n",
        "Ejemplo: Calcular la suma de una cantidad de números enteros ingresados por el usuario"
      ],
      "metadata": {
        "id": "oDxGKE9gVqJR"
      }
    },
    {
      "cell_type": "code",
      "source": [
        "Suma = 0\n",
        "# En este caso, la variable booleana Continuar sera nuestro flag.\n",
        "Continuar = True\n",
        "\n",
        "while Continuar :\n",
        "  # Declaramos la variable InputUsuario y almacenamos su valor ingresado por el usuario.\n",
        "  InputUsuario = input(\"Ingrese un numero ('exit' para terminar): \")\n",
        "\n",
        "  if InputUsuario == \"exit\" :\n",
        "    # Si el usuario ingresa exit, se cambiara la condicion booleana de Continuar.\n",
        "    Continuar = False\n",
        "  else :\n",
        "    # En cualquier otro caso, se hara la suma y se mostrara el resultado que se fue ingresando.\n",
        "    Numero = int(InputUsuario)\n",
        "    Suma = Suma + Numero\n",
        "    print(\"La suma es: \" + str(Suma))\n",
        "\n",
        "# Al finalizar, se mostrara por pantalla la suma total de todo lo ingresado.\n",
        "print(\"La suma total de todo lo ingresado es: \" + str(Suma))"
      ],
      "metadata": {
        "colab": {
          "base_uri": "https://localhost:8080/"
        },
        "id": "dTE5jKZUWo4q",
        "outputId": "517f5533-e489-49c3-9aec-7bf8fddc64bd"
      },
      "execution_count": 17,
      "outputs": [
        {
          "output_type": "stream",
          "name": "stdout",
          "text": [
            "Ingrese un numero (exit para terminar): 10\n",
            "La suma es: 10\n",
            "Ingrese un numero (exit para terminar): 20\n",
            "La suma es: 30\n",
            "Ingrese un numero (exit para terminar): 20\n",
            "La suma es: 50\n",
            "Ingrese un numero (exit para terminar): exit\n",
            "La suma total de todo lo ingresado es: 50\n"
          ]
        }
      ]
    },
    {
      "cell_type": "markdown",
      "source": [
        "## Sentencia - Break"
      ],
      "metadata": {
        "id": "TGU4_fLUYgrC"
      }
    },
    {
      "cell_type": "markdown",
      "source": [
        "Una sentencia `break` permite detener un bucle por completo en cuanto se da o deja de darse una condición externa. Por lo general, en Python `break` se utiliza dentro del código y suele estar situado después de una sentencia `if`.\n",
        "\\\n",
        "\\\n",
        "Ejemplo: Mostrar por pantalla los primeros 5 numeros enteros"
      ],
      "metadata": {
        "id": "o5tfPnbuYnIc"
      }
    },
    {
      "cell_type": "code",
      "source": [
        "Numero = 0\n",
        "while Numero < 10 :\n",
        "\n",
        "  if Numero == 5 :\n",
        "    # En el momento en que Numero sea igual a 5, se detendra el bucle.\n",
        "    break\n",
        "\n",
        "  # Ir mostrando por pantalla los numeros.\n",
        "  print(Numero)\n",
        "  # Incrementar el valor de la variable Numero en 1.\n",
        "  Numero += 1"
      ],
      "metadata": {
        "colab": {
          "base_uri": "https://localhost:8080/"
        },
        "id": "lJrt5aylYobS",
        "outputId": "ffd152dc-562b-427d-b7c3-0e1d2f3fff73"
      },
      "execution_count": 16,
      "outputs": [
        {
          "output_type": "stream",
          "name": "stdout",
          "text": [
            "0\n",
            "1\n",
            "2\n",
            "3\n",
            "4\n"
          ]
        }
      ]
    },
    {
      "cell_type": "markdown",
      "source": [
        "## Bucle por iterador (\"for\")"
      ],
      "metadata": {
        "id": "KmwRyxHNcKcF"
      }
    },
    {
      "cell_type": "markdown",
      "source": [
        "Veamos la estructura de repetición `for`.\n",
        "\n",
        "```\n",
        "# Estructura for\n",
        "for valor in listaDeValores :\n",
        "  bloque de codigo para cada valor\n",
        "```\n",
        "\n",
        "El bucle `for` se utiliza generalmente para recorrer los elementos de un objeto iterable.\n",
        "Por ejemplo:\n",
        "* Listas\n",
        "* Tuplas\n",
        "* Conjuntos\n",
        "* Diccionarios\n",
        "* etc.\n",
        "\n",
        "y luego ejecutar un bloque de código.\n",
        "\n",
        "\\\n",
        "Ejemplo: Mostrar por pantalla la letra de la cancion \"Me gusta\" de Manu Chao."
      ],
      "metadata": {
        "id": "5wIXKjQvdBWy"
      }
    },
    {
      "cell_type": "code",
      "source": [
        "GustosManuChao = [\"los aviones\", \"viajar\", \"la maniana\", \"el viento\", \"soniar\", \"el mar\"]\n",
        "\n",
        "for Gusto in GustosManuChao :\n",
        "  print(\"Me gusta \" + Gusto + \", me gustas tu\")"
      ],
      "metadata": {
        "colab": {
          "base_uri": "https://localhost:8080/"
        },
        "id": "BAJQl0o1eIjK",
        "outputId": "7d2a7f77-8bb5-4d93-b516-47e7eaf903e8"
      },
      "execution_count": 13,
      "outputs": [
        {
          "output_type": "stream",
          "name": "stdout",
          "text": [
            "Me gusta los aviones, me gustas tu\n",
            "Me gusta viajar, me gustas tu\n",
            "Me gusta la maniana, me gustas tu\n",
            "Me gusta el viento, me gustas tu\n",
            "Me gusta soniar, me gustas tu\n",
            "Me gusta el mar, me gustas tu\n"
          ]
        }
      ]
    },
    {
      "cell_type": "markdown",
      "source": [
        "## Range"
      ],
      "metadata": {
        "id": "lC5gtl72fJ_V"
      }
    },
    {
      "cell_type": "markdown",
      "source": [
        "La función `range(inicio, final, incremento)` devuelve una secuencia de números.\n",
        "* De forma predeterminada, comenza desde 0\n",
        "* De forma predeterminada, incrementa en 1\n",
        "* Se detiene antes del número especificado.\n",
        "\n",
        "Ejemplo:"
      ],
      "metadata": {
        "id": "_jHuW6APfMgN"
      }
    },
    {
      "cell_type": "code",
      "source": [
        "for Numero in range(1, 20, 3) :\n",
        "  print(Numero)"
      ],
      "metadata": {
        "colab": {
          "base_uri": "https://localhost:8080/"
        },
        "id": "0fwZIJJnfNyZ",
        "outputId": "9ee6d421-ca6e-4119-921d-154659c364fc"
      },
      "execution_count": 14,
      "outputs": [
        {
          "output_type": "stream",
          "name": "stdout",
          "text": [
            "1\n",
            "4\n",
            "7\n",
            "10\n",
            "13\n",
            "16\n",
            "19\n"
          ]
        }
      ]
    }
  ]
}